{
 "cells": [
  {
   "cell_type": "code",
   "execution_count": 144,
   "metadata": {},
   "outputs": [
    {
     "data": {
      "text/plain": [
       "['s3://sar-store/plates/xaa.csv',\n",
       " 's3://sar-store/plates/xab1.csv',\n",
       " 's3://sar-store/plates/xac2.csv',\n",
       " 's3://sar-store/plates/xad.csv',\n",
       " 's3://sar-store/plates/xae.csv',\n",
       " 's3://sar-store/plates/xaf.csv',\n",
       " 's3://sar-store/plates/xag.csv',\n",
       " 's3://sar-store/plates/xah.csv',\n",
       " 's3://sar-store/plates/xai.csv',\n",
       " 's3://sar-store/plates/xaj.csv',\n",
       " 's3://sar-store/plates/xak.csv',\n",
       " 's3://sar-store/plates/xal.csv',\n",
       " 's3://sar-store/plates/xam.csv',\n",
       " 's3://sar-store/plates/xan.csv',\n",
       " 's3://sar-store/plates/xao.csv',\n",
       " 's3://sar-store/plates/xap.csv',\n",
       " 's3://sar-store/plates/xaq.csv',\n",
       " 's3://sar-store/plates/xar.csv',\n",
       " 's3://sar-store/plates/xas.csv',\n",
       " 's3://sar-store/plates/xat.csv',\n",
       " 's3://sar-store/plates/xau.csv',\n",
       " 's3://sar-store/plates/xav.csv',\n",
       " 's3://sar-store/plates/xaw.csv',\n",
       " 's3://sar-store/plates/xax.csv',\n",
       " 's3://sar-store/plates/xay.csv',\n",
       " 's3://sar-store/plates/xaz.csv',\n",
       " 's3://sar-store/plates/xba.csv',\n",
       " 's3://sar-store/plates/xbb.csv',\n",
       " 's3://sar-store/plates/xbc.csv',\n",
       " 's3://sar-store/plates/xbd.csv',\n",
       " 's3://sar-store/plates/xbe.csv',\n",
       " 's3://sar-store/plates/xbf.csv',\n",
       " 's3://sar-store/plates/xbg.csv',\n",
       " 's3://sar-store/plates/xbh.csv',\n",
       " 's3://sar-store/plates/xbi.csv',\n",
       " 's3://sar-store/plates/xbj.csv',\n",
       " 's3://sar-store/plates/xbk.csv',\n",
       " 's3://sar-store/plates/xbl.csv',\n",
       " 's3://sar-store/plates/xbm.csv',\n",
       " 's3://sar-store/plates/xbn.csv',\n",
       " 's3://sar-store/plates/xbo.csv',\n",
       " 's3://sar-store/plates/xbp.csv',\n",
       " 's3://sar-store/plates/xbq.csv',\n",
       " 's3://sar-store/plates/xbr.csv',\n",
       " 's3://sar-store/plates/xbs.csv',\n",
       " 's3://sar-store/plates/xbt.csv',\n",
       " 's3://sar-store/plates/xbu.csv',\n",
       " 's3://sar-store/plates/xbv.csv',\n",
       " 's3://sar-store/plates/xbw.csv',\n",
       " 's3://sar-store/plates/xbx.csv',\n",
       " 's3://sar-store/plates/xby.csv',\n",
       " 's3://sar-store/plates/xbz.csv',\n",
       " 's3://sar-store/plates/xca.csv',\n",
       " 's3://sar-store/plates/xcb.csv',\n",
       " 's3://sar-store/plates/xcc.csv',\n",
       " 's3://sar-store/plates/xcd.csv',\n",
       " 's3://sar-store/plates/xce.csv',\n",
       " 's3://sar-store/plates/xcf.csv']"
      ]
     },
     "execution_count": 144,
     "metadata": {},
     "output_type": "execute_result"
    }
   ],
   "source": [
    "import dask.dataframe as dd\n",
    "import boto3\n",
    "import os \n",
    "s3 = boto3.resource('s3', aws_access_key_id = os.environ['ACCESS'], aws_secret_access_key=os.environ['SECRET'])\n",
    "my_bucket = s3.Bucket('sar-store')\n",
    "\n",
    "\n",
    "paths = [\"s3://\" + object.bucket_name + '/' + object.key for object in my_bucket.objects.filter(Prefix='plates/')]\n",
    "paths[1:]"
   ]
  },
  {
   "cell_type": "code",
   "execution_count": 145,
   "metadata": {},
   "outputs": [],
   "source": [
    "df = dd.read_csv(paths[1:], storage_options={'anon': True}, header=None, names=col_names)"
   ]
  },
  {
   "cell_type": "code",
   "execution_count": 149,
   "metadata": {},
   "outputs": [
    {
     "data": {
      "text/html": [
       "<div><strong>Dask DataFrame Structure:</strong></div>\n",
       "<div>\n",
       "<style scoped>\n",
       "    .dataframe tbody tr th:only-of-type {\n",
       "        vertical-align: middle;\n",
       "    }\n",
       "\n",
       "    .dataframe tbody tr th {\n",
       "        vertical-align: top;\n",
       "    }\n",
       "\n",
       "    .dataframe thead th {\n",
       "        text-align: right;\n",
       "    }\n",
       "</style>\n",
       "<table border=\"1\" class=\"dataframe\">\n",
       "  <thead>\n",
       "    <tr style=\"text-align: right;\">\n",
       "      <th></th>\n",
       "      <th>Plate</th>\n",
       "      <th>State</th>\n",
       "      <th>License Type</th>\n",
       "      <th>Summons Number</th>\n",
       "      <th>Issue Date</th>\n",
       "      <th>Violation Time</th>\n",
       "      <th>Violation</th>\n",
       "      <th>Judgment Entry Date</th>\n",
       "      <th>Fine Amount</th>\n",
       "      <th>Penalty Amount</th>\n",
       "      <th>Interest Amount</th>\n",
       "      <th>Reduction Amount</th>\n",
       "      <th>Payment Amount</th>\n",
       "      <th>Amount Due</th>\n",
       "      <th>Precinct</th>\n",
       "      <th>County</th>\n",
       "      <th>Issuing Agency</th>\n",
       "      <th>Violation Status</th>\n",
       "      <th>Summons Image</th>\n",
       "    </tr>\n",
       "    <tr>\n",
       "      <th>npartitions=1</th>\n",
       "      <th></th>\n",
       "      <th></th>\n",
       "      <th></th>\n",
       "      <th></th>\n",
       "      <th></th>\n",
       "      <th></th>\n",
       "      <th></th>\n",
       "      <th></th>\n",
       "      <th></th>\n",
       "      <th></th>\n",
       "      <th></th>\n",
       "      <th></th>\n",
       "      <th></th>\n",
       "      <th></th>\n",
       "      <th></th>\n",
       "      <th></th>\n",
       "      <th></th>\n",
       "      <th></th>\n",
       "      <th></th>\n",
       "    </tr>\n",
       "  </thead>\n",
       "  <tbody>\n",
       "    <tr>\n",
       "      <th></th>\n",
       "      <td>object</td>\n",
       "      <td>object</td>\n",
       "      <td>object</td>\n",
       "      <td>object</td>\n",
       "      <td>object</td>\n",
       "      <td>object</td>\n",
       "      <td>object</td>\n",
       "      <td>object</td>\n",
       "      <td>object</td>\n",
       "      <td>object</td>\n",
       "      <td>object</td>\n",
       "      <td>object</td>\n",
       "      <td>object</td>\n",
       "      <td>object</td>\n",
       "      <td>object</td>\n",
       "      <td>object</td>\n",
       "      <td>object</td>\n",
       "      <td>object</td>\n",
       "      <td>object</td>\n",
       "    </tr>\n",
       "    <tr>\n",
       "      <th></th>\n",
       "      <td>...</td>\n",
       "      <td>...</td>\n",
       "      <td>...</td>\n",
       "      <td>...</td>\n",
       "      <td>...</td>\n",
       "      <td>...</td>\n",
       "      <td>...</td>\n",
       "      <td>...</td>\n",
       "      <td>...</td>\n",
       "      <td>...</td>\n",
       "      <td>...</td>\n",
       "      <td>...</td>\n",
       "      <td>...</td>\n",
       "      <td>...</td>\n",
       "      <td>...</td>\n",
       "      <td>...</td>\n",
       "      <td>...</td>\n",
       "      <td>...</td>\n",
       "      <td>...</td>\n",
       "    </tr>\n",
       "  </tbody>\n",
       "</table>\n",
       "</div>\n",
       "<div>Dask Name: drop-duplicates-agg, 706 tasks</div>"
      ],
      "text/plain": [
       "Dask DataFrame Structure:\n",
       "                Plate   State License Type Summons Number Issue Date Violation Time Violation Judgment Entry Date Fine Amount Penalty Amount Interest Amount Reduction Amount Payment Amount Amount Due Precinct  County Issuing Agency Violation Status Summons Image\n",
       "npartitions=1                                                                                                                                                                                                                                                         \n",
       "               object  object       object         object     object         object    object              object      object         object          object           object         object     object   object  object         object           object        object\n",
       "                  ...     ...          ...            ...        ...            ...       ...                 ...         ...            ...             ...              ...            ...        ...      ...     ...            ...              ...           ...\n",
       "Dask Name: drop-duplicates-agg, 706 tasks"
      ]
     },
     "execution_count": 149,
     "metadata": {},
     "output_type": "execute_result"
    }
   ],
   "source": [
    "df.drop_duplicates(inplace=True)"
   ]
  },
  {
   "cell_type": "code",
   "execution_count": 150,
   "metadata": {},
   "outputs": [
    {
     "name": "stderr",
     "output_type": "stream",
     "text": [
      "/opt/conda/lib/python3.6/site-packages/dask/local.py:290: DtypeWarning: Columns (3,8,9,10,11,12,13,14) have mixed types. Specify dtype option on import or set low_memory=False.\n",
      "  result = _execute_task(task, data)\n",
      "/opt/conda/lib/python3.6/site-packages/dask/local.py:290: DtypeWarning: Columns (7) have mixed types. Specify dtype option on import or set low_memory=False.\n",
      "  result = _execute_task(task, data)\n"
     ]
    },
    {
     "data": {
      "text/plain": [
       "28672114"
      ]
     },
     "execution_count": 150,
     "metadata": {},
     "output_type": "execute_result"
    }
   ],
   "source": [
    "len(df)"
   ]
  },
  {
   "cell_type": "code",
   "execution_count": 155,
   "metadata": {},
   "outputs": [
    {
     "name": "stderr",
     "output_type": "stream",
     "text": [
      "/opt/conda/lib/python3.6/site-packages/dask/local.py:290: DtypeWarning: Columns (3,8,9,10,11,12,13,14) have mixed types. Specify dtype option on import or set low_memory=False.\n",
      "  result = _execute_task(task, data)\n",
      "/opt/conda/lib/python3.6/site-packages/dask/local.py:290: DtypeWarning: Columns (7) have mixed types. Specify dtype option on import or set low_memory=False.\n",
      "  result = _execute_task(task, data)\n"
     ]
    }
   ],
   "source": [
    "types = df.groupby(['License Type'])['Summons Number'].count().compute()"
   ]
  },
  {
   "cell_type": "code",
   "execution_count": 158,
   "metadata": {},
   "outputs": [
    {
     "data": {
      "text/plain": [
       "License Type\n",
       "PAS    22044794\n",
       "COM     3856556\n",
       "OMT     1226341\n",
       "OMS      356053\n",
       "SRF      238725\n",
       "999      210110\n",
       "IRP      129519\n",
       "MOT       76441\n",
       "APP       72458\n",
       "TRC       62415\n",
       "Name: Summons Number, dtype: int64"
      ]
     },
     "execution_count": 158,
     "metadata": {},
     "output_type": "execute_result"
    }
   ],
   "source": [
    "types.sort_values(ascending=False).head(10)"
   ]
  },
  {
   "cell_type": "code",
   "execution_count": 159,
   "metadata": {},
   "outputs": [
    {
     "name": "stderr",
     "output_type": "stream",
     "text": [
      "/opt/conda/lib/python3.6/site-packages/dask/local.py:290: DtypeWarning: Columns (3,8,9,10,11,12,13,14) have mixed types. Specify dtype option on import or set low_memory=False.\n",
      "  result = _execute_task(task, data)\n",
      "/opt/conda/lib/python3.6/site-packages/dask/local.py:290: DtypeWarning: Columns (7) have mixed types. Specify dtype option on import or set low_memory=False.\n",
      "  result = _execute_task(task, data)\n"
     ]
    }
   ],
   "source": [
    "vanities = df[df['License Type'] == 'SRF'].groupby('Plate')['Summons Number'].count().compute()"
   ]
  },
  {
   "cell_type": "code",
   "execution_count": null,
   "metadata": {},
   "outputs": [
    {
     "name": "stderr",
     "output_type": "stream",
     "text": [
      "/opt/conda/lib/python3.6/site-packages/dask/local.py:290: DtypeWarning: Columns (3,8,9,10,11,12,13,14) have mixed types. Specify dtype option on import or set low_memory=False.\n",
      "  result = _execute_task(task, data)\n",
      "/opt/conda/lib/python3.6/site-packages/dask/local.py:290: DtypeWarning: Columns (7) have mixed types. Specify dtype option on import or set low_memory=False.\n",
      "  result = _execute_task(task, data)\n"
     ]
    }
   ],
   "source": [
    "summons_per_plate = df.groupby(['Plate', 'License Type'])['Summons Number'].count().compute()"
   ]
  },
  {
   "cell_type": "code",
   "execution_count": null,
   "metadata": {},
   "outputs": [],
   "source": []
  }
 ],
 "metadata": {
  "kernelspec": {
   "display_name": "Python 3",
   "language": "python",
   "name": "python3"
  },
  "language_info": {
   "codemirror_mode": {
    "name": "ipython",
    "version": 3
   },
   "file_extension": ".py",
   "mimetype": "text/x-python",
   "name": "python",
   "nbconvert_exporter": "python",
   "pygments_lexer": "ipython3",
   "version": "3.6.3"
  }
 },
 "nbformat": 4,
 "nbformat_minor": 2
}
